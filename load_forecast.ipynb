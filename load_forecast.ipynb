{
 "cells": [
  {
   "cell_type": "code",
   "execution_count": 69,
   "metadata": {
    "collapsed": true
   },
   "outputs": [],
   "source": [
    "import os\n",
    "\n",
    "# import pkg\n",
    "import numpy as np\n",
    "import matplotlib.pyplot as plt\n",
    "import pandas as pd"
   ]
  },
  {
   "cell_type": "markdown",
   "source": [
    "# Pre-process\n",
    "## Investigate dataset\n",
    "### Dataset\n",
    "\n",
    "The dataset stores houshold energy usage in London between 11/2011 and 02/2014. The source is available on kaggle:  https://www.kaggle.com/jeanmidev/smart-meters-in-london\n",
    "\n",
    "Noted that kaggle provided processed dataset for downloading, but this project starts working on the raw data files to transform and clean data.\n",
    "\n",
    "## Read dataset\n",
    "First look at data in folder `daily_dataset`\n"
   ],
   "metadata": {
    "collapsed": false
   }
  },
  {
   "cell_type": "code",
   "execution_count": 70,
   "outputs": [
    {
     "data": {
      "text/plain": "       LCLid         day   hh_0   hh_1   hh_2   hh_3   hh_4   hh_5   hh_6  \\\n0  MAC000002  2012-10-13  0.263  0.269  0.275  0.256  0.211  0.136  0.161   \n1  MAC000002  2012-10-14  0.262  0.166  0.226  0.088  0.126  0.082  0.123   \n2  MAC000002  2012-10-15  0.192  0.097  0.141  0.083  0.132  0.070  0.130   \n3  MAC000002  2012-10-16  0.237  0.237  0.193  0.118  0.098  0.107  0.094   \n4  MAC000002  2012-10-17  0.157  0.211  0.155  0.169  0.101  0.117  0.084   \n\n    hh_7  ...  hh_38  hh_39  hh_40  hh_41  hh_42  hh_43  hh_44  hh_45  hh_46  \\\n0  0.119  ...  0.918  0.278  0.267  0.239  0.230  0.233  0.235  0.188  0.259   \n1  0.083  ...  1.075  0.956  0.821  0.745  0.712  0.511  0.231  0.210  0.278   \n2  0.074  ...  1.164  0.249  0.225  0.258  0.260  0.334  0.299  0.236  0.241   \n3  0.109  ...  0.966  0.172  0.192  0.228  0.203  0.211  0.188  0.213  0.157   \n4  0.118  ...  0.223  0.075  0.230  0.208  0.265  0.377  0.327  0.277  0.288   \n\n   hh_47  \n0  0.250  \n1  0.159  \n2  0.237  \n3  0.202  \n4  0.256  \n\n[5 rows x 50 columns]",
      "text/html": "<div>\n<style scoped>\n    .dataframe tbody tr th:only-of-type {\n        vertical-align: middle;\n    }\n\n    .dataframe tbody tr th {\n        vertical-align: top;\n    }\n\n    .dataframe thead th {\n        text-align: right;\n    }\n</style>\n<table border=\"1\" class=\"dataframe\">\n  <thead>\n    <tr style=\"text-align: right;\">\n      <th></th>\n      <th>LCLid</th>\n      <th>day</th>\n      <th>hh_0</th>\n      <th>hh_1</th>\n      <th>hh_2</th>\n      <th>hh_3</th>\n      <th>hh_4</th>\n      <th>hh_5</th>\n      <th>hh_6</th>\n      <th>hh_7</th>\n      <th>...</th>\n      <th>hh_38</th>\n      <th>hh_39</th>\n      <th>hh_40</th>\n      <th>hh_41</th>\n      <th>hh_42</th>\n      <th>hh_43</th>\n      <th>hh_44</th>\n      <th>hh_45</th>\n      <th>hh_46</th>\n      <th>hh_47</th>\n    </tr>\n  </thead>\n  <tbody>\n    <tr>\n      <th>0</th>\n      <td>MAC000002</td>\n      <td>2012-10-13</td>\n      <td>0.263</td>\n      <td>0.269</td>\n      <td>0.275</td>\n      <td>0.256</td>\n      <td>0.211</td>\n      <td>0.136</td>\n      <td>0.161</td>\n      <td>0.119</td>\n      <td>...</td>\n      <td>0.918</td>\n      <td>0.278</td>\n      <td>0.267</td>\n      <td>0.239</td>\n      <td>0.230</td>\n      <td>0.233</td>\n      <td>0.235</td>\n      <td>0.188</td>\n      <td>0.259</td>\n      <td>0.250</td>\n    </tr>\n    <tr>\n      <th>1</th>\n      <td>MAC000002</td>\n      <td>2012-10-14</td>\n      <td>0.262</td>\n      <td>0.166</td>\n      <td>0.226</td>\n      <td>0.088</td>\n      <td>0.126</td>\n      <td>0.082</td>\n      <td>0.123</td>\n      <td>0.083</td>\n      <td>...</td>\n      <td>1.075</td>\n      <td>0.956</td>\n      <td>0.821</td>\n      <td>0.745</td>\n      <td>0.712</td>\n      <td>0.511</td>\n      <td>0.231</td>\n      <td>0.210</td>\n      <td>0.278</td>\n      <td>0.159</td>\n    </tr>\n    <tr>\n      <th>2</th>\n      <td>MAC000002</td>\n      <td>2012-10-15</td>\n      <td>0.192</td>\n      <td>0.097</td>\n      <td>0.141</td>\n      <td>0.083</td>\n      <td>0.132</td>\n      <td>0.070</td>\n      <td>0.130</td>\n      <td>0.074</td>\n      <td>...</td>\n      <td>1.164</td>\n      <td>0.249</td>\n      <td>0.225</td>\n      <td>0.258</td>\n      <td>0.260</td>\n      <td>0.334</td>\n      <td>0.299</td>\n      <td>0.236</td>\n      <td>0.241</td>\n      <td>0.237</td>\n    </tr>\n    <tr>\n      <th>3</th>\n      <td>MAC000002</td>\n      <td>2012-10-16</td>\n      <td>0.237</td>\n      <td>0.237</td>\n      <td>0.193</td>\n      <td>0.118</td>\n      <td>0.098</td>\n      <td>0.107</td>\n      <td>0.094</td>\n      <td>0.109</td>\n      <td>...</td>\n      <td>0.966</td>\n      <td>0.172</td>\n      <td>0.192</td>\n      <td>0.228</td>\n      <td>0.203</td>\n      <td>0.211</td>\n      <td>0.188</td>\n      <td>0.213</td>\n      <td>0.157</td>\n      <td>0.202</td>\n    </tr>\n    <tr>\n      <th>4</th>\n      <td>MAC000002</td>\n      <td>2012-10-17</td>\n      <td>0.157</td>\n      <td>0.211</td>\n      <td>0.155</td>\n      <td>0.169</td>\n      <td>0.101</td>\n      <td>0.117</td>\n      <td>0.084</td>\n      <td>0.118</td>\n      <td>...</td>\n      <td>0.223</td>\n      <td>0.075</td>\n      <td>0.230</td>\n      <td>0.208</td>\n      <td>0.265</td>\n      <td>0.377</td>\n      <td>0.327</td>\n      <td>0.277</td>\n      <td>0.288</td>\n      <td>0.256</td>\n    </tr>\n  </tbody>\n</table>\n<p>5 rows × 50 columns</p>\n</div>"
     },
     "execution_count": 70,
     "metadata": {},
     "output_type": "execute_result"
    }
   ],
   "source": [
    "b0_daily = pd.read_csv('data/hhblock_dataset/block_0.csv')\n",
    "b0_daily.head()"
   ],
   "metadata": {
    "collapsed": false
   }
  },
  {
   "cell_type": "markdown",
   "source": [
    "### Data-type conversion"
   ],
   "metadata": {
    "collapsed": false
   }
  },
  {
   "cell_type": "code",
   "execution_count": 71,
   "outputs": [
    {
     "name": "stdout",
     "output_type": "stream",
     "text": [
      "<class 'pandas.core.frame.DataFrame'>\n",
      "RangeIndex: 25286 entries, 0 to 25285\n",
      "Data columns (total 50 columns):\n",
      " #   Column  Non-Null Count  Dtype  \n",
      "---  ------  --------------  -----  \n",
      " 0   LCLid   25286 non-null  object \n",
      " 1   day     25286 non-null  object \n",
      " 2   hh_0    25286 non-null  float64\n",
      " 3   hh_1    25286 non-null  float64\n",
      " 4   hh_2    25286 non-null  float64\n",
      " 5   hh_3    25286 non-null  float64\n",
      " 6   hh_4    25286 non-null  float64\n",
      " 7   hh_5    25286 non-null  float64\n",
      " 8   hh_6    25286 non-null  float64\n",
      " 9   hh_7    25286 non-null  float64\n",
      " 10  hh_8    25286 non-null  float64\n",
      " 11  hh_9    25286 non-null  float64\n",
      " 12  hh_10   25286 non-null  float64\n",
      " 13  hh_11   25286 non-null  float64\n",
      " 14  hh_12   25286 non-null  float64\n",
      " 15  hh_13   25286 non-null  float64\n",
      " 16  hh_14   25286 non-null  float64\n",
      " 17  hh_15   25286 non-null  float64\n",
      " 18  hh_16   25286 non-null  float64\n",
      " 19  hh_17   25286 non-null  float64\n",
      " 20  hh_18   25286 non-null  float64\n",
      " 21  hh_19   25286 non-null  float64\n",
      " 22  hh_20   25286 non-null  float64\n",
      " 23  hh_21   25286 non-null  float64\n",
      " 24  hh_22   25286 non-null  float64\n",
      " 25  hh_23   25286 non-null  float64\n",
      " 26  hh_24   25286 non-null  float64\n",
      " 27  hh_25   25285 non-null  float64\n",
      " 28  hh_26   25286 non-null  float64\n",
      " 29  hh_27   25286 non-null  float64\n",
      " 30  hh_28   25286 non-null  float64\n",
      " 31  hh_29   25286 non-null  float64\n",
      " 32  hh_30   25237 non-null  float64\n",
      " 33  hh_31   25286 non-null  float64\n",
      " 34  hh_32   25286 non-null  float64\n",
      " 35  hh_33   25286 non-null  float64\n",
      " 36  hh_34   25286 non-null  float64\n",
      " 37  hh_35   25286 non-null  float64\n",
      " 38  hh_36   25286 non-null  float64\n",
      " 39  hh_37   25286 non-null  float64\n",
      " 40  hh_38   25286 non-null  float64\n",
      " 41  hh_39   25286 non-null  float64\n",
      " 42  hh_40   25286 non-null  float64\n",
      " 43  hh_41   25286 non-null  float64\n",
      " 44  hh_42   25286 non-null  float64\n",
      " 45  hh_43   25286 non-null  float64\n",
      " 46  hh_44   25286 non-null  float64\n",
      " 47  hh_45   25286 non-null  float64\n",
      " 48  hh_46   25286 non-null  float64\n",
      " 49  hh_47   25286 non-null  float64\n",
      "dtypes: float64(48), object(2)\n",
      "memory usage: 9.6+ MB\n"
     ]
    }
   ],
   "source": [
    "# check data type, noted that `day` is not parsed as date-time\n",
    "b0_daily.info()"
   ],
   "metadata": {
    "collapsed": false
   }
  },
  {
   "cell_type": "code",
   "execution_count": 72,
   "outputs": [
    {
     "data": {
      "text/plain": "0   2012-10-13\n1   2012-10-14\n2   2012-10-15\n3   2012-10-16\n4   2012-10-17\nName: day, dtype: datetime64[ns]"
     },
     "execution_count": 72,
     "metadata": {},
     "output_type": "execute_result"
    }
   ],
   "source": [
    "# convert `day` to datetime\n",
    "b0_daily.day = pd.to_datetime(b0_daily.day, format=\"%Y-%m-%d\")\n",
    "\n",
    "b0_daily.day.head()"
   ],
   "metadata": {
    "collapsed": false
   }
  },
  {
   "cell_type": "markdown",
   "source": [
    "### Check NA for time-series"
   ],
   "metadata": {
    "collapsed": false
   }
  },
  {
   "cell_type": "code",
   "execution_count": 73,
   "outputs": [
    {
     "data": {
      "text/plain": "day\n2012-10-13    3\n2012-09-29    3\n2012-10-10    3\n2012-10-02    3\n2012-10-25    3\n2012-10-26    2\n2012-10-17    2\n2012-10-03    2\n2012-10-23    2\n2012-10-19    2\n2012-10-18    2\n2012-05-24    1\n2012-05-22    1\n2012-07-07    1\n2012-05-26    1\n2012-03-17    1\n2012-10-24    1\n2012-03-21    1\n2012-10-20    1\n2012-10-12    1\n2012-10-16    1\n2011-12-04    1\n2012-10-11    1\n2012-10-09    1\n2012-10-04    1\n2012-12-12    1\n2012-09-25    1\n2012-09-22    1\n2012-09-20    1\n2012-09-19    1\n2012-09-18    1\n2012-05-09    1\n2012-03-23    1\n2012-04-18    1\nName: count, dtype: int64"
     },
     "execution_count": 73,
     "metadata": {},
     "output_type": "execute_result"
    }
   ],
   "source": [
    "# look at the start date of each `LCLid` which is the user\n",
    "b0_daily[['LCLid', 'day']].groupby('LCLid').min().day.value_counts()"
   ],
   "metadata": {
    "collapsed": false
   }
  },
  {
   "cell_type": "code",
   "execution_count": 74,
   "outputs": [
    {
     "data": {
      "text/plain": "day\n2014-02-27    42\n2013-05-14     1\n2012-12-20     1\n2014-02-21     1\n2013-08-11     1\n2013-11-20     1\n2013-10-15     1\n2014-01-12     1\n2013-09-18     1\nName: count, dtype: int64"
     },
     "execution_count": 74,
     "metadata": {},
     "output_type": "execute_result"
    }
   ],
   "source": [
    "# look at the end date of each `LCLid` which is the user\n",
    "b0_daily[['LCLid', 'day']].groupby('LCLid').max().day.value_counts()"
   ],
   "metadata": {
    "collapsed": false
   }
  },
  {
   "cell_type": "markdown",
   "source": [
    "The result shows users have different 'start date' and 'end date'."
   ],
   "metadata": {
    "collapsed": false
   }
  },
  {
   "cell_type": "markdown",
   "source": [
    "## Transform data\n",
    "### Reshape\n"
   ],
   "metadata": {
    "collapsed": false
   }
  },
  {
   "cell_type": "code",
   "execution_count": 76,
   "outputs": [
    {
     "data": {
      "text/plain": "       LCLid        day  hour  energy\n0  MAC000002 2012-10-13  hh_0   0.263\n1  MAC000002 2012-10-13  hh_1   0.269\n2  MAC000002 2012-10-13  hh_2   0.275\n3  MAC000002 2012-10-13  hh_3   0.256\n4  MAC000002 2012-10-13  hh_4   0.211",
      "text/html": "<div>\n<style scoped>\n    .dataframe tbody tr th:only-of-type {\n        vertical-align: middle;\n    }\n\n    .dataframe tbody tr th {\n        vertical-align: top;\n    }\n\n    .dataframe thead th {\n        text-align: right;\n    }\n</style>\n<table border=\"1\" class=\"dataframe\">\n  <thead>\n    <tr style=\"text-align: right;\">\n      <th></th>\n      <th>LCLid</th>\n      <th>day</th>\n      <th>hour</th>\n      <th>energy</th>\n    </tr>\n  </thead>\n  <tbody>\n    <tr>\n      <th>0</th>\n      <td>MAC000002</td>\n      <td>2012-10-13</td>\n      <td>hh_0</td>\n      <td>0.263</td>\n    </tr>\n    <tr>\n      <th>1</th>\n      <td>MAC000002</td>\n      <td>2012-10-13</td>\n      <td>hh_1</td>\n      <td>0.269</td>\n    </tr>\n    <tr>\n      <th>2</th>\n      <td>MAC000002</td>\n      <td>2012-10-13</td>\n      <td>hh_2</td>\n      <td>0.275</td>\n    </tr>\n    <tr>\n      <th>3</th>\n      <td>MAC000002</td>\n      <td>2012-10-13</td>\n      <td>hh_3</td>\n      <td>0.256</td>\n    </tr>\n    <tr>\n      <th>4</th>\n      <td>MAC000002</td>\n      <td>2012-10-13</td>\n      <td>hh_4</td>\n      <td>0.211</td>\n    </tr>\n  </tbody>\n</table>\n</div>"
     },
     "execution_count": 76,
     "metadata": {},
     "output_type": "execute_result"
    }
   ],
   "source": [
    "# pivoting and renaming columns\n",
    "b0_trans = b0_daily.set_index(['LCLid', 'day']).stack().reset_index().rename({'level_2': 'hour', 0: 'energy'}, axis=1)\n",
    "b0_trans"
   ],
   "metadata": {
    "collapsed": false
   }
  },
  {
   "cell_type": "code",
   "execution_count": 90,
   "outputs": [
    {
     "data": {
      "text/plain": "             LCLid        day hour  energy\n0        MAC000002 2012-10-13    0   0.263\n1        MAC000002 2012-10-13    1   0.269\n2        MAC000002 2012-10-13    2   0.275\n3        MAC000002 2012-10-13    3   0.256\n4        MAC000002 2012-10-13    4   0.211\n...            ...        ...  ...     ...\n1213673  MAC005492 2014-02-27   43   0.250\n1213674  MAC005492 2014-02-27   44   0.182\n1213675  MAC005492 2014-02-27   45   0.122\n1213676  MAC005492 2014-02-27   46   0.140\n1213677  MAC005492 2014-02-27   47   0.192\n\n[1213678 rows x 4 columns]",
      "text/html": "<div>\n<style scoped>\n    .dataframe tbody tr th:only-of-type {\n        vertical-align: middle;\n    }\n\n    .dataframe tbody tr th {\n        vertical-align: top;\n    }\n\n    .dataframe thead th {\n        text-align: right;\n    }\n</style>\n<table border=\"1\" class=\"dataframe\">\n  <thead>\n    <tr style=\"text-align: right;\">\n      <th></th>\n      <th>LCLid</th>\n      <th>day</th>\n      <th>hour</th>\n      <th>energy</th>\n    </tr>\n  </thead>\n  <tbody>\n    <tr>\n      <th>0</th>\n      <td>MAC000002</td>\n      <td>2012-10-13</td>\n      <td>0</td>\n      <td>0.263</td>\n    </tr>\n    <tr>\n      <th>1</th>\n      <td>MAC000002</td>\n      <td>2012-10-13</td>\n      <td>1</td>\n      <td>0.269</td>\n    </tr>\n    <tr>\n      <th>2</th>\n      <td>MAC000002</td>\n      <td>2012-10-13</td>\n      <td>2</td>\n      <td>0.275</td>\n    </tr>\n    <tr>\n      <th>3</th>\n      <td>MAC000002</td>\n      <td>2012-10-13</td>\n      <td>3</td>\n      <td>0.256</td>\n    </tr>\n    <tr>\n      <th>4</th>\n      <td>MAC000002</td>\n      <td>2012-10-13</td>\n      <td>4</td>\n      <td>0.211</td>\n    </tr>\n    <tr>\n      <th>...</th>\n      <td>...</td>\n      <td>...</td>\n      <td>...</td>\n      <td>...</td>\n    </tr>\n    <tr>\n      <th>1213673</th>\n      <td>MAC005492</td>\n      <td>2014-02-27</td>\n      <td>43</td>\n      <td>0.250</td>\n    </tr>\n    <tr>\n      <th>1213674</th>\n      <td>MAC005492</td>\n      <td>2014-02-27</td>\n      <td>44</td>\n      <td>0.182</td>\n    </tr>\n    <tr>\n      <th>1213675</th>\n      <td>MAC005492</td>\n      <td>2014-02-27</td>\n      <td>45</td>\n      <td>0.122</td>\n    </tr>\n    <tr>\n      <th>1213676</th>\n      <td>MAC005492</td>\n      <td>2014-02-27</td>\n      <td>46</td>\n      <td>0.140</td>\n    </tr>\n    <tr>\n      <th>1213677</th>\n      <td>MAC005492</td>\n      <td>2014-02-27</td>\n      <td>47</td>\n      <td>0.192</td>\n    </tr>\n  </tbody>\n</table>\n<p>1213678 rows × 4 columns</p>\n</div>"
     },
     "execution_count": 90,
     "metadata": {},
     "output_type": "execute_result"
    }
   ],
   "source": [
    "b0_trans"
   ],
   "metadata": {
    "collapsed": false
   }
  },
  {
   "cell_type": "markdown",
   "source": [
    "### Extract hour"
   ],
   "metadata": {
    "collapsed": false
   }
  },
  {
   "cell_type": "code",
   "execution_count": 77,
   "outputs": [
    {
     "data": {
      "text/plain": "             LCLid        day hour  energy\n0        MAC000002 2012-10-13    0   0.263\n1        MAC000002 2012-10-13    1   0.269\n2        MAC000002 2012-10-13    2   0.275\n3        MAC000002 2012-10-13    3   0.256\n4        MAC000002 2012-10-13    4   0.211\n...            ...        ...  ...     ...\n1213673  MAC005492 2014-02-27   43   0.250\n1213674  MAC005492 2014-02-27   44   0.182\n1213675  MAC005492 2014-02-27   45   0.122\n1213676  MAC005492 2014-02-27   46   0.140\n1213677  MAC005492 2014-02-27   47   0.192\n\n[1213678 rows x 4 columns]",
      "text/html": "<div>\n<style scoped>\n    .dataframe tbody tr th:only-of-type {\n        vertical-align: middle;\n    }\n\n    .dataframe tbody tr th {\n        vertical-align: top;\n    }\n\n    .dataframe thead th {\n        text-align: right;\n    }\n</style>\n<table border=\"1\" class=\"dataframe\">\n  <thead>\n    <tr style=\"text-align: right;\">\n      <th></th>\n      <th>LCLid</th>\n      <th>day</th>\n      <th>hour</th>\n      <th>energy</th>\n    </tr>\n  </thead>\n  <tbody>\n    <tr>\n      <th>0</th>\n      <td>MAC000002</td>\n      <td>2012-10-13</td>\n      <td>0</td>\n      <td>0.263</td>\n    </tr>\n    <tr>\n      <th>1</th>\n      <td>MAC000002</td>\n      <td>2012-10-13</td>\n      <td>1</td>\n      <td>0.269</td>\n    </tr>\n    <tr>\n      <th>2</th>\n      <td>MAC000002</td>\n      <td>2012-10-13</td>\n      <td>2</td>\n      <td>0.275</td>\n    </tr>\n    <tr>\n      <th>3</th>\n      <td>MAC000002</td>\n      <td>2012-10-13</td>\n      <td>3</td>\n      <td>0.256</td>\n    </tr>\n    <tr>\n      <th>4</th>\n      <td>MAC000002</td>\n      <td>2012-10-13</td>\n      <td>4</td>\n      <td>0.211</td>\n    </tr>\n    <tr>\n      <th>...</th>\n      <td>...</td>\n      <td>...</td>\n      <td>...</td>\n      <td>...</td>\n    </tr>\n    <tr>\n      <th>1213673</th>\n      <td>MAC005492</td>\n      <td>2014-02-27</td>\n      <td>43</td>\n      <td>0.250</td>\n    </tr>\n    <tr>\n      <th>1213674</th>\n      <td>MAC005492</td>\n      <td>2014-02-27</td>\n      <td>44</td>\n      <td>0.182</td>\n    </tr>\n    <tr>\n      <th>1213675</th>\n      <td>MAC005492</td>\n      <td>2014-02-27</td>\n      <td>45</td>\n      <td>0.122</td>\n    </tr>\n    <tr>\n      <th>1213676</th>\n      <td>MAC005492</td>\n      <td>2014-02-27</td>\n      <td>46</td>\n      <td>0.140</td>\n    </tr>\n    <tr>\n      <th>1213677</th>\n      <td>MAC005492</td>\n      <td>2014-02-27</td>\n      <td>47</td>\n      <td>0.192</td>\n    </tr>\n  </tbody>\n</table>\n<p>1213678 rows × 4 columns</p>\n</div>"
     },
     "execution_count": 77,
     "metadata": {},
     "output_type": "execute_result"
    }
   ],
   "source": [
    "# only keep the numeric value in column `hour`\n",
    "b0_trans.hour = b0_trans.hour.str.strip().str.replace('hh_', '')\n",
    "b0_trans"
   ],
   "metadata": {
    "collapsed": false
   }
  },
  {
   "cell_type": "markdown",
   "source": [
    "### Extract time-series(for one user)\n",
    "Create a dataframe which covers the earliest start date and latest end date"
   ],
   "metadata": {
    "collapsed": false
   }
  },
  {
   "cell_type": "code",
   "execution_count": null,
   "outputs": [],
   "source": [
    "# find the earliest start date and latest end date in one .csv file\n",
    "start_date = b0_daily.day.min()\n",
    "max_date = b0_daily.day.max()\n",
    "\n",
    "# create dataframe\n"
   ],
   "metadata": {
    "collapsed": false
   }
  },
  {
   "cell_type": "markdown",
   "source": [
    "## Transform all data"
   ],
   "metadata": {
    "collapsed": false
   }
  },
  {
   "cell_type": "code",
   "execution_count": 88,
   "outputs": [],
   "source": [
    "# define a function to extract values from `.csv` file\n",
    "def extract_ts(df):\n",
    "    \"\"\"\n",
    "\n",
    "    :param df: dataframe read from '.data/hhblock_dataset/block_*.csv'\n",
    "    :return:\n",
    "    \"\"\"\n",
    "\n",
    "    start_date = df.day.min()\n",
    "    max_date = df.day.max()\n",
    "    name = df['LCLid'].unique()[0]\n"
   ],
   "metadata": {
    "collapsed": false
   }
  }
 ],
 "metadata": {
  "kernelspec": {
   "display_name": "Python 3",
   "language": "python",
   "name": "python3"
  },
  "language_info": {
   "codemirror_mode": {
    "name": "ipython",
    "version": 2
   },
   "file_extension": ".py",
   "mimetype": "text/x-python",
   "name": "python",
   "nbconvert_exporter": "python",
   "pygments_lexer": "ipython2",
   "version": "2.7.6"
  }
 },
 "nbformat": 4,
 "nbformat_minor": 0
}
